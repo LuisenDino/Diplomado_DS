{
 "cells": [
  {
   "cell_type": "markdown",
   "id": "6ed697b0-3f4b-4edf-8c62-b07aa2331e73",
   "metadata": {
    "tags": []
   },
   "source": [
    "<h1 style=\"color:teal; align-items: center;\"><img style=\"display:inline:block;\" src=\"https://cdn3.iconfinder.com/data/icons/logos-and-brands-adobe/512/267_Python-512.png\" width=\"30\">  Detección de Rostros con Haar Cascade</h1>\n",
    "<b style=\"color:teal\" >Reporte No. 1:</b> Propuesta del proyecto"
   ]
  },
  {
   "cell_type": "markdown",
   "id": "b9f6745c-8008-4a6b-8b46-c628f6ffffcf",
   "metadata": {
    "jp-MarkdownHeadingCollapsed": true,
    "tags": []
   },
   "source": [
    "<h4><span style=\"color:steelblue\">Asesor Principal:</span> Prof. Oleg Jarma</h4>\n",
    "<h4><span style=\"color:steelblue\">Autor:</span> Luis Enrique Carmona</h4>\n",
    "<hr style=\"border:0.5px solid steelblue\">"
   ]
  },
  {
   "cell_type": "markdown",
   "id": "2cdcff46-a090-4500-afd3-fba93cfd8ade",
   "metadata": {
    "jp-MarkdownHeadingCollapsed": true,
    "tags": []
   },
   "source": [
    "<h3 style=\"color:seagreen; align-items: center;\">Introducción:</h3>\n",
    "<hr style=\"border:0.5px solid seagreen\">\n",
    "El reconocimiento facial es una forma de identificación y autenticación de identidad de una persona mediante las características únicas de su rostro. Esta es una de las formas de reconocimiento Biométrico y tiene aplicaciones en seguridad y en identficación de personas. El reconocimiento facial se divide en 3 etapas:\n",
    "<ol>\n",
    "    <li><span style=\"color:seagreen\">Detección de rostros:</span> En esta parte se identifican los rostros en una imágen o video</li>\n",
    "    <li><span style=\"color:seagreen\">Análisis facial:</span> En esta parte se obtiene la geometría del rostro e información biométrica general del mismo</li>\n",
    "    <li><span style=\"color:seagreen\">Conversión a datos</span> En esta parte se transforman las \n",
    "</ol>\n",
    "características obtenidas de la imagen a datos e información interpretable y comparable</li>\n",
    "Se podría adicionar una 4 etapa que sería la comparación, en esta se comparan los datos extraídos con datos en bases de datos para obtener la identidad de la persona.</br>\n",
    "</br>\n",
    "Para este proyecto se centrará en la primera etapa del reconocimiento facial, la detección de rostros y para ello se utilizarán los clasificadores de cascada de Haar."
   ]
  },
  {
   "cell_type": "markdown",
   "id": "57185df4-634d-413e-bf18-dac65a2ed82c",
   "metadata": {
    "tags": []
   },
   "source": [
    "<h3 style=\"color:seagreen; align-items: center;\">Descripción del problema:</h3>\n",
    "<hr style=\"border:0.5px solid seagreen\">\n",
    "<p>El problema a tratar es la detección de objetos mediante la técnica de Cascada de Haar (Haar Cascade). El proyecto se centrará en el reconocimiento de rostros en tiempo real (Con Cámara) para extender posteriormente el desarrollo a reconocimiento y autenticación facial con otras técnicas de inteligencia artificial.<\\p>"
   ]
  },
  {
   "cell_type": "markdown",
   "id": "2f0ce067-293f-43aa-bed9-9f2163e22260",
   "metadata": {
    "jp-MarkdownHeadingCollapsed": true,
    "tags": []
   },
   "source": [
    "<h3 style=\"color:seagreen; align-items: center;\">Fuentes de Datos:</h3>\n",
    "<hr style=\"border:0.5px solid seagreen\">\n",
    "Como fuentes de datos se utilizaran las que brinda la librería OpenCV para sus modelos de clasificación con cascada de Haar"
   ]
  },
  {
   "cell_type": "markdown",
   "id": "f4d78a16-98c0-456f-961f-c8b9769fdb9c",
   "metadata": {
    "tags": []
   },
   "source": [
    "<h3 style=\"color:seagreen; align-items: center;\">Procesamiento ETL y Exploración de los datos:</h3>\n",
    "<hr style=\"border:0.5px solid seagreen\">\n",
    "Los datos a utilizar en este proyecto fueron recolectados por los creadores de OpenCV y con los que fueron entrenados los modelos a utilizar con los clasificadores de cascada. "
   ]
  },
  {
   "cell_type": "markdown",
   "id": "e1bacddb-319d-4918-ba43-0b3883f6e088",
   "metadata": {},
   "source": [
    "<h3 style=\"color:seagreen; align-items: center;\">Técnicas de modelación propuestas:</h3>\n",
    "<hr style=\"border:0.5px solid seagreen\">\n",
    "Se utilizará la técnica de cascada de Haar para reconocimiento de objetos en imágenes. Los modelos de las cascadas se obtendrán de OpenCV disponibles en este <a href=\"https://github.com/opencv/opencv/tree/master/data/haarcascades\" style=\"color:seagreen\">enlace</a>. \n",
    "De los cuales se utilizarán específicamente 3:\n",
    "<ul>\n",
    "    <li>Rostro Frontal: <a href=\"https://github.com/opencv/opencv/blob/master/data/haarcascades/haarcascade_frontalface_default.xml\" style=\"color:seagreen\">haarcascade_frontalface_default.xml</a></li>\n",
    "    <li>Ojos: <a href=\"https://github.com/opencv/opencv/blob/master/data/haarcascades/haarcascade_eye.xml\" style=\"color:seagreen\">haarcascade_eye.xml</a></li>\n",
    "    <li>Sonrisa: <a href=\"https://github.com/opencv/opencv/blob/master/data/haarcascades/haarcascade_smile.xml\" style=\"color:seagreen\">haarcascade_smile.xml</a></li>\n",
    "</ul>\n"
   ]
  },
  {
   "cell_type": "markdown",
   "id": "afe6adac-513a-4b56-8218-2fd6c33ea63b",
   "metadata": {},
   "source": [
    "<h3 style=\"color:seagreen; align-items: center;\">Conocimientos requeridos para el desarrollo del proyecto:</h3>\n",
    "<hr style=\"border:0.5px solid seagreen\">\n",
    "<ul>\n",
    "    <li><span style=\"color:seagreen;\">Python:</span> nivel intermedio</li>\n",
    "    <li><span style=\"color:seagreen;\">OpenCV:</span> básico </li>\n",
    "    <li>Conocimientos en Visión por computadora</li>\n",
    "    <li>Clasificación de cascada (Haar)</li>\n",
    "</ul>"
   ]
  },
  {
   "cell_type": "markdown",
   "id": "86ac2373-421e-430a-bfc0-3c4940d85ac6",
   "metadata": {},
   "source": [
    "<h3 style=\"color:seagreen; align-items: center;\">Resultados esperados:</h3>\n",
    "<hr style=\"border:0.5px solid seagreen\">\n",
    "Un software que sea capaz de identificar rostros, los ojos y la boca de personas de un video capturado mediante la cámara del PC."
   ]
  },
  {
   "cell_type": "markdown",
   "id": "ebdd9c8e-c0f9-4d13-b8a3-bb672e124b62",
   "metadata": {},
   "source": [
    "<h3 style=\"color:seagreen; align-items: center;\">Tiempo de desarrollo esperado:</h3>\n",
    "<hr style=\"border:0.5px solid seagreen\">\n",
    "Primera etapa: Identificación de rostros - 4 semanas.\n",
    "</br>\n",
    "Segunda etapa: Reconocimiento Facial con IA - 8 semanas."
   ]
  }
 ],
 "metadata": {
  "kernelspec": {
   "display_name": "Python 3 (ipykernel)",
   "language": "python",
   "name": "python3"
  },
  "language_info": {
   "codemirror_mode": {
    "name": "ipython",
    "version": 3
   },
   "file_extension": ".py",
   "mimetype": "text/x-python",
   "name": "python",
   "nbconvert_exporter": "python",
   "pygments_lexer": "ipython3",
   "version": "3.10.8"
  }
 },
 "nbformat": 4,
 "nbformat_minor": 5
}
